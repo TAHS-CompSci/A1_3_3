{
 "cells": [
  {
   "cell_type": "code",
   "execution_count": null,
   "metadata": {},
   "outputs": [],
   "source": [
    "\"\"\"\n",
    "Activity 1.3.3 Notes, Questions, and Coding\n",
    "Jesse Laue\n",
    "Going through the lesson and taking notes, answering activity and conclusion questions, and coding.\n",
    "\"\"\"\n",
    "#NOTES\n",
    "\"\"\"\n",
    "- Branching/Decision Structures\n",
    "\n",
    "- Boolean Logic: Statement evaluates to True or False             ( Conditional Statement )\n",
    "  if x > 5:                                             =>>>    if   variable ( Relational Operator )  value/expression/variable: \n",
    "     print(\"True\")                                                               <, >, >=, <=, ==, !\n",
    "    \n",
    "    what happens when true?\n",
    "    \n",
    "  if x < 10:\n",
    "     print(\"true\")\n",
    "     \n",
    "  if x == 3:\n",
    "     print(\"true\")\n",
    "#if you had put in 7 for x then it would print true twice, but if you put in 3 it would conflict, if you put 15 it would only print true once\n",
    "\n",
    "  elif x<10:\n",
    "     print(\"true\")\n",
    "     \n",
    "  else:\n",
    "     print(\"false\")\n",
    "     \n",
    "# this will not conflict ( all these include the original x > 5 ) it will just print true and skip. If you plug in 3 it will print false and skip the original.\n",
    "\n",
    "    - Include and, or, and not for greater complexity.\n",
    "        - and: both condition must be true to evaluate as true\n",
    "            - if x > 5 and x < 10:\n",
    "                print: (\"true\")\n",
    "        - or: eietheer condition can be met to evaluate as true _ both conditions must be false to evaluate as such\n",
    "             - if x > 5 or x < 10:\n",
    "                 print(\"true\")\n",
    "             if x == 7 or x < 10:\n",
    "                 print(\"true\")\n",
    "                 \n",
    "        - not: the opposite of the confition is true.\n",
    "             if a > 5 not a < 10:\n",
    "                 print(\"true\")\n",
    "                \n",
    "    \n",
    "    \n",
    "\"\"\""
   ]
  },
  {
   "cell_type": "code",
   "execution_count": null,
   "metadata": {},
   "outputs": [],
   "source": [
    "\"\"\"\n",
    "ACTIVITY AND CONCLUSION QUESTIONS \n",
    "\"\"\""
   ]
  },
  {
   "cell_type": "code",
   "execution_count": 7,
   "metadata": {},
   "outputs": [
    {
     "ename": "SyntaxError",
     "evalue": "invalid syntax (<ipython-input-7-d3b7eda246e4>, line 7)",
     "output_type": "error",
     "traceback": [
      "\u001b[1;36m  File \u001b[1;32m\"<ipython-input-7-d3b7eda246e4>\"\u001b[1;36m, line \u001b[1;32m7\u001b[0m\n\u001b[1;33m    a == 3 true\u001b[0m\n\u001b[1;37m              ^\u001b[0m\n\u001b[1;31mSyntaxError\u001b[0m\u001b[1;31m:\u001b[0m invalid syntax\n"
     ]
    }
   ],
   "source": [
    "\"\"\"\n",
    "CODING FOR ACTIVITY\n",
    "\"\"\"\n",
    "#3\n",
    "\n",
    "def a (variable):\n",
    "    a == 3 \n",
    "    "
   ]
  },
  {
   "cell_type": "code",
   "execution_count": null,
   "metadata": {},
   "outputs": [],
   "source": []
  },
  {
   "cell_type": "code",
   "execution_count": null,
   "metadata": {},
   "outputs": [],
   "source": []
  }
 ],
 "metadata": {
  "kernelspec": {
   "display_name": "Python 3",
   "language": "python",
   "name": "python3"
  },
  "language_info": {
   "codemirror_mode": {
    "name": "ipython",
    "version": 3
   },
   "file_extension": ".py",
   "mimetype": "text/x-python",
   "name": "python",
   "nbconvert_exporter": "python",
   "pygments_lexer": "ipython3",
   "version": "3.7.4"
  }
 },
 "nbformat": 4,
 "nbformat_minor": 2
}
