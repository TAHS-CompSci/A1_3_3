{
 "cells": [
  {
   "cell_type": "code",
   "execution_count": 1,
   "metadata": {},
   "outputs": [
    {
     "data": {
      "text/plain": [
       "'\\nA1.3.3 elkins.py\\nProgrammer:Adam Elkins\\nthis is where the notes is put or tested \\nevery good descion structure star with if\\nboolean logic: statement eveluates to true or false \\ninclude and, or, and not for greater complexity\\n    and:both conditions must be trueto eveluate as true \\n    or: either condition can be met to eveluate as true- both conditoions must be\\n    not: the opposite of the condtion is true\\nif variable (relational operator) value/expression/variable:\\nelif\" \":\\nelse: if nothing else works\\n\\n'"
      ]
     },
     "execution_count": 1,
     "metadata": {},
     "output_type": "execute_result"
    }
   ],
   "source": [
    "\"\"\"\n",
    "A1.3.3 elkins.py\n",
    "Programmer:Adam Elkins\n",
    "this is where the notes is put or tested \n",
    "every good descion structure star with if\n",
    "boolean logic: statement eveluates to true or false \n",
    "include and, or, and not for greater complexity\n",
    "    and:both conditions must be trueto eveluate as true \n",
    "    or: either condition can be met to eveluate as true- both conditoions must be\n",
    "    not: the opposite of the condtion is true\n",
    "if variable (relational operator) value/expression/variable:\n",
    "elif\" \":\n",
    "else: if nothing else works\n",
    "\n",
    "\"\"\"\n"
   ]
  },
  {
   "cell_type": "code",
   "execution_count": null,
   "metadata": {},
   "outputs": [],
   "source": []
  },
  {
   "cell_type": "code",
   "execution_count": null,
   "metadata": {},
   "outputs": [],
   "source": []
  },
  {
   "cell_type": "code",
   "execution_count": null,
   "metadata": {},
   "outputs": [],
   "source": []
  },
  {
   "cell_type": "code",
   "execution_count": null,
   "metadata": {},
   "outputs": [],
   "source": []
  }
 ],
 "metadata": {
  "kernelspec": {
   "display_name": "Python 3",
   "language": "python",
   "name": "python3"
  },
  "language_info": {
   "codemirror_mode": {
    "name": "ipython",
    "version": 3
   },
   "file_extension": ".py",
   "mimetype": "text/x-python",
   "name": "python",
   "nbconvert_exporter": "python",
   "pygments_lexer": "ipython3",
   "version": "3.7.4"
  }
 },
 "nbformat": 4,
 "nbformat_minor": 2
}
