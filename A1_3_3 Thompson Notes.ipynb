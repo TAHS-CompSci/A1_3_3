{
 "cells": [
  {
   "cell_type": "markdown",
   "metadata": {},
   "source": [
    "Conditional statements use boolean logic to branch\n",
    "\n",
    "= assigns\n",
    "== compares \n",
    "\n",
    "Compound Conditional: A conditional with one or more logical operators used to incorporate several logical expressions\n",
    "\n",
    "Python uses multiple assignment which is where you can assign mvalues to multiple variables\n",
    "\n"
   ]
  },
  {
   "cell_type": "code",
   "execution_count": 3,
   "metadata": {},
   "outputs": [
    {
     "name": "stdout",
     "output_type": "stream",
     "text": [
      "Too young... Next\n",
      "Minimum age is  13\n",
      "16 is good enough\n",
      "Minimum age is  13\n"
     ]
    }
   ],
   "source": [
    "def age_limit_output(age):\n",
    "    AGE_LIMIT = 13\n",
    "    if age < AGE_LIMIT:\n",
    "        print(\"Too young... Next\")\n",
    "    else:\n",
    "        print(age, \"is good enough\")\n",
    "    print(\"Minimum age is \", AGE_LIMIT)\n",
    "\n",
    "age_limit_output(10)\n",
    "age_limit_output(16)"
   ]
  },
  {
   "cell_type": "code",
   "execution_count": 5,
   "metadata": {},
   "outputs": [
    {
     "name": "stdout",
     "output_type": "stream",
     "text": [
      "You have FAILED\n",
      "your goal is  80\n",
      "Ye have mastered this skill\n",
      "Ye have mastered this skill\n"
     ]
    }
   ],
   "source": [
    "def report_grade(percent):\n",
    "    mastery = 80\n",
    "    if percent >= mastery:\n",
    "        print(\"Ye have mastered this skill\")\n",
    "    else:\n",
    "        print(\"You have FAILED\")\n",
    "        print(\"your goal is \", mastery)\n",
    "    \n",
    "report_grade(79)\n",
    "report_grade(80)\n",
    "report_grade(81)"
   ]
  },
  {
   "cell_type": "code",
   "execution_count": 15,
   "metadata": {},
   "outputs": [
    {
     "data": {
      "text/plain": [
       "True"
      ]
     },
     "execution_count": 15,
     "metadata": {},
     "output_type": "execute_result"
    }
   ],
   "source": [
    "def letter_in_word(guess):\n",
    "    word = \"Pumpkin\"\n",
    "    if guess in word:\n",
    "        return True\n",
    "    else:\n",
    "        return False\n",
    "    \n",
    "letter_in_word(\"P\")"
   ]
  },
  {
   "cell_type": "code",
   "execution_count": 16,
   "metadata": {},
   "outputs": [
    {
     "name": "stdout",
     "output_type": "stream",
     "text": [
      "That is in Sequence\n"
     ]
    }
   ],
   "source": [
    "secret = [\"orange\", \"red\", \"blue\"]\n",
    "def hint(guess):\n",
    "    if guess in secret:\n",
    "        print(\"That is in Sequence\")\n",
    "    else:\n",
    "        print(\"Nope... try again\")\n",
    "\n",
    "hint(\"red\")"
   ]
  },
  {
   "cell_type": "markdown",
   "metadata": {},
   "source": [
    "Terms to know:\n",
    "- Boolean logic: Statement evaluates to true or false\n",
    "- Conditional Statement: If Then \n",
    "- Relational operator: >,<,>=,<=,==,!=\n",
    "\n",
    "Branching/Decision Structures:\n",
    "- always start with \"if\" *uses boolean logic\n",
    "- Followed by a conditional Statement\n",
    "- then the relational Operator\n",
    "- then a variable \n",
    "- finally a colon\n",
    "- include and, or, and not for greater complexity \n",
    "- and: both conditions must be true yo evaluate as true \n",
    "    if x > 5 and x < 10:\n",
    "        print(\"true\")\n",
    "- or: either conditions can be met to evaluate as true, only false if all conditions are false\n",
    "    if x > 5 or x < 10:\n",
    "        print(\"true\")\n",
    "- not: the opposite of the condition is true\n",
    "    if a > 5 not a < 10:\n",
    "        print(\"true\")\n",
    "\n",
    "if x > 5:\n",
    "    print(\"true\")\n",
    "elif x < 10: \n",
    "    print(\"true\")\n",
    "else: \n",
    "    print(\"false\")\n"
   ]
  }
 ],
 "metadata": {
  "kernelspec": {
   "display_name": "Python 3",
   "language": "python",
   "name": "python3"
  },
  "language_info": {
   "codemirror_mode": {
    "name": "ipython",
    "version": 3
   },
   "file_extension": ".py",
   "mimetype": "text/x-python",
   "name": "python",
   "nbconvert_exporter": "python",
   "pygments_lexer": "ipython3",
   "version": "3.7.4"
  }
 },
 "nbformat": 4,
 "nbformat_minor": 2
}
