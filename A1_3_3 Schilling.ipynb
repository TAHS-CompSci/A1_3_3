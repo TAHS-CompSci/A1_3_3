{
 "cells": [
  {
   "cell_type": "markdown",
   "metadata": {},
   "source": [
    "Terms to know:\n",
    "- Boolean logic: Statement evaluates to true or false\n",
    "- Conditional Statement: If Then \n",
    "- Relational operator: >,<,>=,<=,==,!=\n",
    "\n",
    "Branching/Decision Structures:\n",
    "- always start with \"if\" *uses boolean logic\n",
    "- Followed by a conditional Statement\n",
    "- then the relational Operator\n",
    "- then a variable \n",
    "- finally a colon\n",
    "- include and, or, and not for greater complexity \n",
    "- and: both conditions must be true yo evaluate as true \n",
    "    if x > 5 and x < 10:\n",
    "        print(\"true\")\n",
    "- or: either conditions can be met to evaluate as true, only false if all conditions are false\n",
    "    if x > 5 or x < 10:\n",
    "        print(\"true\")\n",
    "- not: the opposite of the condition is true\n",
    "    if a > 5 not a < 10:\n",
    "        print(\"true\")\n",
    "\n",
    "if x > 5:\n",
    "    print(\"true\")\n",
    "elif x < 10: \n",
    "    print(\"true\")\n",
    "else: \n",
    "    print(\"false\")\n"
   ]
  }
 ],
 "metadata": {
  "kernelspec": {
   "display_name": "Python 3",
   "language": "python",
   "name": "python3"
  },
  "language_info": {
   "codemirror_mode": {
    "name": "ipython",
    "version": 3
   },
   "file_extension": ".py",
   "mimetype": "text/x-python",
   "name": "python",
   "nbconvert_exporter": "python",
   "pygments_lexer": "ipython3",
   "version": "3.7.4"
  }
 },
 "nbformat": 4,
 "nbformat_minor": 2
}
