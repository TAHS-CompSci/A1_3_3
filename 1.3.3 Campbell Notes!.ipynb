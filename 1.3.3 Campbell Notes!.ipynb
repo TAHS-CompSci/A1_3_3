{
 "cells": [
  {
   "cell_type": "code",
   "execution_count": 1,
   "metadata": {},
   "outputs": [
    {
     "ename": "SyntaxError",
     "evalue": "invalid syntax (<ipython-input-1-d0e115c6fbba>, line 1)",
     "output_type": "error",
     "traceback": [
      "\u001b[1;36m  File \u001b[1;32m\"<ipython-input-1-d0e115c6fbba>\"\u001b[1;36m, line \u001b[1;32m1\u001b[0m\n\u001b[1;33m    Would want python to automate the algrithm to human population\u001b[0m\n\u001b[1;37m             ^\u001b[0m\n\u001b[1;31mSyntaxError\u001b[0m\u001b[1;31m:\u001b[0m invalid syntax\n"
     ]
    }
   ],
   "source": [
    "Would want python to automate the algrithm to human population\n",
    "help, return, def\n",
    "You make your own code in Ipython sessions (or in our case jupyter sessions)\n",
    "You don't have to type as much"
   ]
  },
  {
   "cell_type": "code",
   "execution_count": 2,
   "metadata": {},
   "outputs": [
    {
     "ename": "SyntaxError",
     "evalue": "invalid syntax (<ipython-input-2-cef50f528dd0>, line 1)",
     "output_type": "error",
     "traceback": [
      "\u001b[1;36m  File \u001b[1;32m\"<ipython-input-2-cef50f528dd0>\"\u001b[1;36m, line \u001b[1;32m1\u001b[0m\n\u001b[1;33m    Or: If either condition is meet is true. If both are meet is false\u001b[0m\n\u001b[1;37m                ^\u001b[0m\n\u001b[1;31mSyntaxError\u001b[0m\u001b[1;31m:\u001b[0m invalid syntax\n"
     ]
    }
   ],
   "source": [
    "Or: If either condition is meet is true. If both are meet is false\n",
    "    if x>5 or x<10:\n",
    "        print (\"True\")\n",
    "    if x==7 or x<10\n",
    "        print (\"True\")"
   ]
  },
  {
   "cell_type": "code",
   "execution_count": 3,
   "metadata": {},
   "outputs": [
    {
     "ename": "SyntaxError",
     "evalue": "invalid syntax (<ipython-input-3-bf16fb4acdf0>, line 1)",
     "output_type": "error",
     "traceback": [
      "\u001b[1;36m  File \u001b[1;32m\"<ipython-input-3-bf16fb4acdf0>\"\u001b[1;36m, line \u001b[1;32m1\u001b[0m\n\u001b[1;33m    Not: The opossite of the condition is true\u001b[0m\n\u001b[1;37m                    ^\u001b[0m\n\u001b[1;31mSyntaxError\u001b[0m\u001b[1;31m:\u001b[0m invalid syntax\n"
     ]
    }
   ],
   "source": [
    "Not: The opossite of the condition is true\n",
    "    if a>5 not X<10:\n",
    "        print (\"True\")"
   ]
  },
  {
   "cell_type": "code",
   "execution_count": 4,
   "metadata": {},
   "outputs": [
    {
     "ename": "SyntaxError",
     "evalue": "invalid syntax (<ipython-input-4-3684e4d9b4f4>, line 1)",
     "output_type": "error",
     "traceback": [
      "\u001b[1;36m  File \u001b[1;32m\"<ipython-input-4-3684e4d9b4f4>\"\u001b[1;36m, line \u001b[1;32m1\u001b[0m\n\u001b[1;33m    and: both conitions must be true to execture.\u001b[0m\n\u001b[1;37m      ^\u001b[0m\n\u001b[1;31mSyntaxError\u001b[0m\u001b[1;31m:\u001b[0m invalid syntax\n"
     ]
    }
   ],
   "source": [
    "and: both conitions must be true to execture.\n",
    "    if x>5 and X<10\n",
    "        print (\"True\")"
   ]
  },
  {
   "cell_type": "code",
   "execution_count": 1,
   "metadata": {},
   "outputs": [
    {
     "ename": "SyntaxError",
     "evalue": "invalid syntax (<ipython-input-1-c9543125dffa>, line 1)",
     "output_type": "error",
     "traceback": [
      "\u001b[1;36m  File \u001b[1;32m\"<ipython-input-1-c9543125dffa>\"\u001b[1;36m, line \u001b[1;32m1\u001b[0m\n\u001b[1;33m    Activity Book Notes\u001b[0m\n\u001b[1;37m                ^\u001b[0m\n\u001b[1;31mSyntaxError\u001b[0m\u001b[1;31m:\u001b[0m invalid syntax\n"
     ]
    }
   ],
   "source": [
    "Activity Book Notes\n",
    "\n",
    "3: It will mesure out as true, due to it having the ability to match the criteria"
   ]
  },
  {
   "cell_type": "code",
   "execution_count": 6,
   "metadata": {},
   "outputs": [
    {
     "data": {
      "text/plain": [
       "True"
      ]
     },
     "execution_count": 6,
     "metadata": {},
     "output_type": "execute_result"
    }
   ],
   "source": [
    "a=3\n",
    "a**2 >= 9 and not a>3\n",
    "\n",
    "a+2 == 5 or a-1 != 3"
   ]
  },
  {
   "cell_type": "code",
   "execution_count": 14,
   "metadata": {},
   "outputs": [
    {
     "ename": "SyntaxError",
     "evalue": "invalid syntax (<ipython-input-14-77c88df4df35>, line 8)",
     "output_type": "error",
     "traceback": [
      "\u001b[1;36m  File \u001b[1;32m\"<ipython-input-14-77c88df4df35>\"\u001b[1;36m, line \u001b[1;32m8\u001b[0m\n\u001b[1;33m    x == 70, and y == 40\u001b[0m\n\u001b[1;37m               ^\u001b[0m\n\u001b[1;31mSyntaxError\u001b[0m\u001b[1;31m:\u001b[0m invalid syntax\n"
     ]
    }
   ],
   "source": [
    "x, y = (65, 40)\n",
    "print: (\"x\")\n",
    "    \n",
    "50 < x and x < 80 and 30 <= y and y <= 45\n",
    "True\n",
    "    \n",
    "#another conditional\n",
    "x == 70, and y == 40\n",
    "False"
   ]
  },
  {
   "cell_type": "code",
   "execution_count": 15,
   "metadata": {},
   "outputs": [
    {
     "ename": "SyntaxError",
     "evalue": "invalid syntax (<ipython-input-15-b102fd5e59d0>, line 1)",
     "output_type": "error",
     "traceback": [
      "\u001b[1;36m  File \u001b[1;32m\"<ipython-input-15-b102fd5e59d0>\"\u001b[1;36m, line \u001b[1;32m1\u001b[0m\n\u001b[1;33m    4: the one above this is 4\u001b[0m\n\u001b[1;37m             ^\u001b[0m\n\u001b[1;31mSyntaxError\u001b[0m\u001b[1;31m:\u001b[0m invalid syntax\n"
     ]
    }
   ],
   "source": [
    "4: the one above this is 4\n",
    "the one bellow this is 5"
   ]
  },
  {
   "cell_type": "code",
   "execution_count": 16,
   "metadata": {},
   "outputs": [
    {
     "ename": "SyntaxError",
     "evalue": "invalid syntax (<ipython-input-16-abf55205583a>, line 8)",
     "output_type": "error",
     "traceback": [
      "\u001b[1;36m  File \u001b[1;32m\"<ipython-input-16-abf55205583a>\"\u001b[1;36m, line \u001b[1;32m8\u001b[0m\n\u001b[1;33m    x == 70, and y == 40\u001b[0m\n\u001b[1;37m               ^\u001b[0m\n\u001b[1;31mSyntaxError\u001b[0m\u001b[1;31m:\u001b[0m invalid syntax\n"
     ]
    }
   ],
   "source": [
    "x, y = (90, 1115)\n",
    "print (\"x\")\n",
    "    \n",
    "50 < x and x < 80 and 30 <= y and y <= 45\n",
    "True\n",
    "    \n",
    "#another conditional\n",
    "x == 70, and y == 40\n",
    "False"
   ]
  },
  {
   "cell_type": "code",
   "execution_count": 17,
   "metadata": {},
   "outputs": [
    {
     "ename": "SyntaxError",
     "evalue": "invalid syntax (<ipython-input-17-23265b6b0143>, line 1)",
     "output_type": "error",
     "traceback": [
      "\u001b[1;36m  File \u001b[1;32m\"<ipython-input-17-23265b6b0143>\"\u001b[1;36m, line \u001b[1;32m1\u001b[0m\n\u001b[1;33m    6:\u001b[0m\n\u001b[1;37m      ^\u001b[0m\n\u001b[1;31mSyntaxError\u001b[0m\u001b[1;31m:\u001b[0m invalid syntax\n"
     ]
    }
   ],
   "source": [
    "6:"
   ]
  },
  {
   "cell_type": "code",
   "execution_count": 42,
   "metadata": {},
   "outputs": [
    {
     "name": "stdout",
     "output_type": "stream",
     "text": [
      "12 is below the age limit.\n",
      " Minimum age is  13\n"
     ]
    }
   ],
   "source": [
    "from __future__ import print_function # use Python 3.0 printing\n",
    "\n",
    "def age_limit_output(age):\n",
    "    age==18\n",
    "AGE_LIMIT = 13  \n",
    "if age < AGE_LIMIT:\n",
    "      print (age, 'is below the age limit.')\n",
    "else:\n",
    "      print(age, 'is old enough.')\n",
    "print(' Minimum age is ', AGE_LIMIT)"
   ]
  },
  {
   "cell_type": "code",
   "execution_count": 43,
   "metadata": {},
   "outputs": [
    {
     "name": "stdout",
     "output_type": "stream",
     "text": [
      "12 is below the age limit.\n",
      " Minimum age is  13\n"
     ]
    }
   ],
   "source": [
    "def age_limit_output(age): \n",
    "    age==10\n",
    "AGE_LIMIT = 13  \n",
    "if age < AGE_LIMIT:\n",
    "      print (age, 'is below the age limit.')\n",
    "else:\n",
    "      print(age, 'is old enough.')\n",
    "print(' Minimum age is ', AGE_LIMIT)"
   ]
  },
  {
   "cell_type": "code",
   "execution_count": 44,
   "metadata": {},
   "outputs": [
    {
     "name": "stdout",
     "output_type": "stream",
     "text": [
      "12 is below the age limit.\n",
      " Minimum age is  13\n"
     ]
    }
   ],
   "source": [
    "def age_limit_output(age):\n",
    "    age==16\n",
    "AGE_LIMIT = 13  \n",
    "if age < AGE_LIMIT:\n",
    "      print (age, 'is below the age limit.')\n",
    "else:\n",
    "      print(age, 'is old enough.')\n",
    "print(' Minimum age is ', AGE_LIMIT)"
   ]
  },
  {
   "cell_type": "code",
   "execution_count": 45,
   "metadata": {},
   "outputs": [
    {
     "ename": "SyntaxError",
     "evalue": "invalid syntax (<ipython-input-45-cf4b9af9ed57>, line 1)",
     "output_type": "error",
     "traceback": [
      "\u001b[1;36m  File \u001b[1;32m\"<ipython-input-45-cf4b9af9ed57>\"\u001b[1;36m, line \u001b[1;32m1\u001b[0m\n\u001b[1;33m    9:\u001b[0m\n\u001b[1;37m      ^\u001b[0m\n\u001b[1;31mSyntaxError\u001b[0m\u001b[1;31m:\u001b[0m invalid syntax\n"
     ]
    }
   ],
   "source": [
    "9:"
   ]
  },
  {
   "cell_type": "code",
   "execution_count": 62,
   "metadata": {},
   "outputs": [
    {
     "name": "stdout",
     "output_type": "stream",
     "text": [
      "The color red IS in the secret sequence of colors.\n"
     ]
    }
   ],
   "source": [
    "secret = ['red','red','yellow','yellow','black']\n",
    "def hint():\n",
    "    hint('red', secret)\n",
    "print (\"The color red IS in the secret sequence of colors.\")\n",
    "\n"
   ]
  },
  {
   "cell_type": "code",
   "execution_count": 66,
   "metadata": {},
   "outputs": [
    {
     "name": "stdout",
     "output_type": "stream",
     "text": [
      "The color green IS NOT in the secret sequence of colors\n"
     ]
    }
   ],
   "source": [
    "def hint():  \n",
    "    hint(green, secret)\n",
    "print (\"The color green IS NOT in the secret sequence of colors\")"
   ]
  },
  {
   "cell_type": "code",
   "execution_count": 67,
   "metadata": {},
   "outputs": [
    {
     "ename": "SyntaxError",
     "evalue": "invalid syntax (<ipython-input-67-5aa8922a2c5f>, line 1)",
     "output_type": "error",
     "traceback": [
      "\u001b[1;36m  File \u001b[1;32m\"<ipython-input-67-5aa8922a2c5f>\"\u001b[1;36m, line \u001b[1;32m1\u001b[0m\n\u001b[1;33m    8:\u001b[0m\n\u001b[1;37m      ^\u001b[0m\n\u001b[1;31mSyntaxError\u001b[0m\u001b[1;31m:\u001b[0m invalid syntax\n"
     ]
    }
   ],
   "source": [
    "*8*\n",
    "\n",
    "def letter_in_word (guess):\n",
    "    word = \"Grunky\""
   ]
  },
  {
   "cell_type": "code",
   "execution_count": 69,
   "metadata": {},
   "outputs": [
    {
     "data": {
      "text/plain": [
       "False"
      ]
     },
     "execution_count": 69,
     "metadata": {},
     "output_type": "execute_result"
    }
   ],
   "source": [
    "'t' in 'string' # includes lowercase t character\n",
    "True\n",
    "'T' in 'string' # case matters\n",
    "False\n",
    "3 in [1,2,3] # this list contains the int 3\n",
    "True\n",
    "'3' in [1,2,3]"
   ]
  },
  {
   "cell_type": "code",
   "execution_count": null,
   "metadata": {},
   "outputs": [],
   "source": []
  }
 ],
 "metadata": {
  "kernelspec": {
   "display_name": "Python 3",
   "language": "python",
   "name": "python3"
  },
  "language_info": {
   "codemirror_mode": {
    "name": "ipython",
    "version": 3
   },
   "file_extension": ".py",
   "mimetype": "text/x-python",
   "name": "python",
   "nbconvert_exporter": "python",
   "pygments_lexer": "ipython3",
   "version": "3.7.4"
  }
 },
 "nbformat": 4,
 "nbformat_minor": 2
}
