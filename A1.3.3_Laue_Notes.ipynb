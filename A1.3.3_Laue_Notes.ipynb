{
 "cells": [
  {
   "cell_type": "code",
   "execution_count": null,
   "metadata": {},
   "outputs": [],
   "source": [
    "\"\"\"\n",
    "Activity 1.3.3 Notes, Questions, and Coding\n",
    "Jesse Laue\n",
    "Going through the lesson and taking notes, answering activity and conclusion questions, and coding.\n",
    "\"\"\"\n",
    "#NOTES\n",
    "\"\"\"\n",
    "- Branching/Decision Structures\n",
    "\n",
    "- Boolean Logic: Statement evaluates to True or False             ( Conditional Statement )\n",
    "  if x > 5:                                             =>>>    if   variable ( Relational Operator )  value/expression/variable: \n",
    "     print(\"True\")                                                               <, >, >=, <=, ==, !\n",
    "    \n",
    "    what happens when true?\n",
    "    \n",
    "  if x < 10:\n",
    "     print(\"true\")\n",
    "     \n",
    "  if x == 3:\n",
    "     print(\"true\")\n",
    "#if you had put in 7 for x then it would print true twice, but if you put in 3 it would conflict, if you put 15 it would only print true once\n",
    "\n",
    "  elif x<10:\n",
    "     print(\"true\")\n",
    "     \n",
    "  else:\n",
    "     print(\"false\")\n",
    "     \n",
    "# this will not conflict ( all these include the original x > 5 ) it will just print true and skip. If you plug in 3 it will print false and skip the original.\n",
    "\n",
    "    - Include and, or, and not for greater complexity.\n",
    "        - and: both condition must be true to evaluate as true\n",
    "            - if x > 5 and x < 10:\n",
    "                print: (\"true\")\n",
    "        - or: eietheer condition can be met to evaluate as true _ both conditions must be false to evaluate as such\n",
    "             - if x > 5 or x < 10:\n",
    "                 print(\"true\")\n",
    "             if x == 7 or x < 10:\n",
    "                 print(\"true\")\n",
    "                 \n",
    "        - not: the opposite of the confition is true.\n",
    "             if a > 5 not a < 10:\n",
    "                 print(\"true\")\n",
    "                \n",
    "\"\"\"\n",
    "\n",
    "\"\"\"\n",
    "Symbol Name\tLooks Like\tIterable\n",
    "Quotation marks\t'letters' or \"spaces\"\tstring\n",
    "Parentheses\t( e1, e2, e3 )\ttuple\n",
    "Square brackets\t[e1, e2, e3 ]\tlist\n",
    "Curly braces\t{key1 : value1, key2 : value2}\n",
    "\n",
    "\"\"\""
   ]
  },
  {
   "cell_type": "code",
   "execution_count": null,
   "metadata": {},
   "outputs": [],
   "source": [
    "\"\"\"\n",
    "ACTIVITY AND CONCLUSION QUESTIONS \n",
    "\"\"\"\n",
    "#1 \n",
    "The if block states if something is evaluate, it will either be true and false, or it will do something or nothing. The else if block states that If something is stated as true or false and it doesnt match either, else will do something to act like a fail safe. The else block is the same but doesnt include the if statement.\n",
    "#2\n",
    "If, Elif, And, Or, Else, Not.\n",
    "#3\n",
    "Ira is correct in the sense that it will happen no matter what, but it wouldnt necassirly make the program run slower.\n",
    "Jayla is com correct because if you decide to change the code later on you will have to change it in two places eitherwise it could run error codes depending on hopw you change the program.\n",
    "Kendra is completely ccorrect because the more code that you have, the more memory being taken up, even if on a small scale. \n"
   ]
  },
  {
   "cell_type": "code",
   "execution_count": 2,
   "metadata": {},
   "outputs": [
    {
     "data": {
      "text/plain": [
       "False"
      ]
     },
     "execution_count": 2,
     "metadata": {},
     "output_type": "execute_result"
    }
   ],
   "source": [
    "\"\"\"\n",
    "CODING FOR ACTIVITY\n",
    "\"\"\"\n",
    "#3\n",
    "\"\"\" \n",
    " \n",
    "EXAMPLE\n",
    "\n",
    "a = 3\n",
    "def num(a):\n",
    "    if a > 100:\n",
    "        print (\"true\")\n",
    "    else:\n",
    "        print (\"false\")\n",
    "\"\"\" \n",
    "\"\"\"\n",
    "#4 ( COORDINATES )\n",
    "#x, y = (65, 40)\n",
    "#x\n",
    "#OUT: 65 \n",
    "\n",
    "50 < x and x < 80 and 30 <= y and y<= 45\n",
    "Out: True \n",
    "\n",
    "40 < x and x > 130 and y > 100 and y < 120 \n",
    "Out: False\n",
    "\"\"\"\n",
    "\n",
    "#5\n",
    "\n",
    "#x, y = (90, 115)\n",
    "#40 < x and x > 130 and y > 100 and y < 120\n"
   ]
  },
  {
   "cell_type": "code",
   "execution_count": 2,
   "metadata": {},
   "outputs": [
    {
     "name": "stdout",
     "output_type": "stream",
     "text": [
      "Practice\n"
     ]
    }
   ],
   "source": [
    "#6\n",
    "#A\n",
    "def age_limit_output (age)\n",
    "\n",
    "# the output displays an error that says that age_limit_output is not defined\n",
    "#B\n",
    "def report_grade (percent):\n",
    "    if percent >= 80:\n",
    "        print (\"Mastery\")\n",
    "    else: \n",
    "        print (\"Practice\")\n",
    "report_grade (78)\n",
    "    \n",
    "    \n"
   ]
  },
  {
   "cell_type": "code",
   "execution_count": 1,
   "metadata": {},
   "outputs": [
    {
     "ename": "SyntaxError",
     "evalue": "invalid syntax (<ipython-input-1-71f7c1cb704f>, line 2)",
     "output_type": "error",
     "traceback": [
      "\u001b[1;36m  File \u001b[1;32m\"<ipython-input-1-71f7c1cb704f>\"\u001b[1;36m, line \u001b[1;32m2\u001b[0m\n\u001b[1;33m    def letter_in_word (guess, word)\u001b[0m\n\u001b[1;37m                                    ^\u001b[0m\n\u001b[1;31mSyntaxError\u001b[0m\u001b[1;31m:\u001b[0m invalid syntax\n"
     ]
    }
   ],
   "source": [
    "#7\n",
    "word = \"time\"\n",
    "def letter_in_word (guess, word):\n",
    "     if \n",
    "    \n",
    "\n",
    "    \n"
   ]
  },
  {
   "cell_type": "code",
   "execution_count": null,
   "metadata": {},
   "outputs": [],
   "source": []
  }
 ],
 "metadata": {
  "kernelspec": {
   "display_name": "Python 3",
   "language": "python",
   "name": "python3"
  },
  "language_info": {
   "codemirror_mode": {
    "name": "ipython",
    "version": 3
   },
   "file_extension": ".py",
   "mimetype": "text/x-python",
   "name": "python",
   "nbconvert_exporter": "python",
   "pygments_lexer": "ipython3",
   "version": "3.7.4"
  }
 },
 "nbformat": 4,
 "nbformat_minor": 2
}
